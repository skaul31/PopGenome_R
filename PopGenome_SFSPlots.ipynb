{
 "cells": [
  {
   "cell_type": "code",
   "execution_count": 1,
   "metadata": {
    "scrolled": true
   },
   "outputs": [
    {
     "name": "stderr",
     "output_type": "stream",
     "text": [
      "Warning message:\n",
      "\"package 'PopGenome' was built under R version 3.6.3\"\n",
      "Loading required package: ff\n",
      "\n",
      "Warning message:\n",
      "\"package 'ff' was built under R version 3.6.3\"\n",
      "Loading required package: bit\n",
      "\n",
      "Warning message:\n",
      "\"package 'bit' was built under R version 3.6.2\"\n",
      "Attaching package bit\n",
      "\n",
      "package:bit (c) 2008-2012 Jens Oehlschlaegel (GPL-2)\n",
      "\n",
      "creators: bit bitwhich\n",
      "\n",
      "coercion: as.logical as.integer as.bit as.bitwhich which\n",
      "\n",
      "operator: ! & | xor != ==\n",
      "\n",
      "querying: print length any all min max range sum summary\n",
      "\n",
      "bit access: length<- [ [<- [[ [[<-\n",
      "\n",
      "for more help type ?bit\n",
      "\n",
      "\n",
      "Attaching package: 'bit'\n",
      "\n",
      "\n",
      "The following object is masked from 'package:base':\n",
      "\n",
      "    xor\n",
      "\n",
      "\n",
      "Attaching package ff\n",
      "\n",
      "- getOption(\"fftempdir\")==\"C:/Users/Samiksha/AppData/Local/Temp/Rtmpea87pK\"\n",
      "\n",
      "\n",
      "- getOption(\"ffextension\")==\"ff\"\n",
      "\n",
      "\n",
      "- getOption(\"ffdrop\")==TRUE\n",
      "\n",
      "\n",
      "- getOption(\"fffinonexit\")==TRUE\n",
      "\n",
      "\n",
      "- getOption(\"ffpagesize\")==65536\n",
      "\n",
      "\n",
      "- getOption(\"ffcaching\")==\"mmnoflush\"  -- consider \"ffeachflush\" if your system stalls on large writes\n",
      "\n",
      "\n",
      "- getOption(\"ffbatchbytes\")==84557168.64 -- consider a different value for tuning your system\n",
      "\n",
      "\n",
      "- getOption(\"ffmaxbytes\")==4227858432 -- consider a different value for tuning your system\n",
      "\n",
      "\n",
      "\n",
      "Attaching package: 'ff'\n",
      "\n",
      "\n",
      "The following objects are masked from 'package:bit':\n",
      "\n",
      "    clone, clone.default, clone.list\n",
      "\n",
      "\n",
      "The following objects are masked from 'package:utils':\n",
      "\n",
      "    write.csv, write.csv2\n",
      "\n",
      "\n",
      "The following objects are masked from 'package:base':\n",
      "\n",
      "    is.factor, is.ordered\n",
      "\n",
      "\n"
     ]
    }
   ],
   "source": [
    "library(PopGenome)"
   ]
  },
  {
   "cell_type": "markdown",
   "metadata": {},
   "source": [
    "This code shows how to calculate and plot the mean SFS for the coding region of each of the genes in the polarity establishment network "
   ]
  },
  {
   "cell_type": "code",
   "execution_count": 2,
   "metadata": {},
   "outputs": [
    {
     "name": "stdout",
     "output_type": "stream",
     "text": [
      "\n",
      "GFF information ...\n",
      "vcff::open : file opened, contains 330 samples\n",
      "[1] \"Available ContigIdentifiers (parameter tid):\"\n",
      "[1] \"I\"     \"II\"    \"III\"   \"IV\"    \"V\"     \"X\"     \"MtDNA\"\n",
      "|            :            |            :            | 100 %\n",
      "|====================================================\n"
     ]
    }
   ],
   "source": [
    "par1 <- readVCF(\"Elegans.vcf.gz\",1000,\"V\",14112034,14141119,gffpath=\"Elegans_CDS_par1.gff3\")"
   ]
  },
  {
   "cell_type": "markdown",
   "metadata": {},
   "source": [
    "Read in data and then split it into subsites that consist of the coding region "
   ]
  },
  {
   "cell_type": "code",
   "execution_count": 3,
   "metadata": {},
   "outputs": [
    {
     "name": "stderr",
     "output_type": "stream",
     "text": [
      "opening ff C:/Users/Samiksha/AppData/Local/Temp/Rtmpea87pK/ff3a4c7e60344c.ff\n",
      "\n"
     ]
    },
    {
     "name": "stdout",
     "output_type": "stream",
     "text": [
      "|            :            |            :            | 100 %\n",
      "|===================================================="
     ]
    }
   ],
   "source": [
    "splitpar1 <- splitting.data(par1, subsites=\"coding\")"
   ]
  },
  {
   "cell_type": "code",
   "execution_count": 4,
   "metadata": {
    "scrolled": true
   },
   "outputs": [
    {
     "data": {
      "text/html": [
       "<style>\n",
       ".list-inline {list-style: none; margin:0; padding: 0}\n",
       ".list-inline>li {display: inline-block}\n",
       ".list-inline>li:not(:last-child)::after {content: \"\\00b7\"; padding: 0 .5ex}\n",
       "</style>\n",
       "<ol class=list-inline><li>'14112802 - 14112915'</li><li>'14112966 - 14113083'</li><li>'14113569 - 14113814'</li><li>'14115458 - 14115582'</li><li>'14116447 - 14116680'</li><li>'14117503 - 14117770'</li><li>'14120061 - 14120643'</li><li>'14120733 - 14121018'</li><li>'14121369 - 14121512'</li><li>'14122208 - 14122315'</li><li>'14122994 - 14123797'</li><li>'14126111 - 14126243'</li><li>'14131640 - 14131854'</li><li>'14132840 - 14132941'</li><li>'14133227 - 14133295'</li></ol>\n"
      ],
      "text/latex": [
       "\\begin{enumerate*}\n",
       "\\item '14112802 - 14112915'\n",
       "\\item '14112966 - 14113083'\n",
       "\\item '14113569 - 14113814'\n",
       "\\item '14115458 - 14115582'\n",
       "\\item '14116447 - 14116680'\n",
       "\\item '14117503 - 14117770'\n",
       "\\item '14120061 - 14120643'\n",
       "\\item '14120733 - 14121018'\n",
       "\\item '14121369 - 14121512'\n",
       "\\item '14122208 - 14122315'\n",
       "\\item '14122994 - 14123797'\n",
       "\\item '14126111 - 14126243'\n",
       "\\item '14131640 - 14131854'\n",
       "\\item '14132840 - 14132941'\n",
       "\\item '14133227 - 14133295'\n",
       "\\end{enumerate*}\n"
      ],
      "text/markdown": [
       "1. '14112802 - 14112915'\n",
       "2. '14112966 - 14113083'\n",
       "3. '14113569 - 14113814'\n",
       "4. '14115458 - 14115582'\n",
       "5. '14116447 - 14116680'\n",
       "6. '14117503 - 14117770'\n",
       "7. '14120061 - 14120643'\n",
       "8. '14120733 - 14121018'\n",
       "9. '14121369 - 14121512'\n",
       "10. '14122208 - 14122315'\n",
       "11. '14122994 - 14123797'\n",
       "12. '14126111 - 14126243'\n",
       "13. '14131640 - 14131854'\n",
       "14. '14132840 - 14132941'\n",
       "15. '14133227 - 14133295'\n",
       "\n",
       "\n"
      ],
      "text/plain": [
       " [1] \"14112802 - 14112915\" \"14112966 - 14113083\" \"14113569 - 14113814\"\n",
       " [4] \"14115458 - 14115582\" \"14116447 - 14116680\" \"14117503 - 14117770\"\n",
       " [7] \"14120061 - 14120643\" \"14120733 - 14121018\" \"14121369 - 14121512\"\n",
       "[10] \"14122208 - 14122315\" \"14122994 - 14123797\" \"14126111 - 14126243\"\n",
       "[13] \"14131640 - 14131854\" \"14132840 - 14132941\" \"14133227 - 14133295\""
      ]
     },
     "metadata": {},
     "output_type": "display_data"
    }
   ],
   "source": [
    "splitpar1@region.names"
   ]
  },
  {
   "cell_type": "markdown",
   "metadata": {},
   "source": [
    "The above cell shows the region names, which are the exons based on the annotation file you read in. Now detail.stats can be used to calculate the minor allele frequencies to calculate the frequency of the SNPs in each window"
   ]
  },
  {
   "cell_type": "code",
   "execution_count": 5,
   "metadata": {
    "scrolled": false
   },
   "outputs": [
    {
     "name": "stdout",
     "output_type": "stream",
     "text": [
      "|            :            |            :            | 100 %\n",
      "|"
     ]
    },
    {
     "name": "stderr",
     "output_type": "stream",
     "text": [
      "opening ff C:/Users/Samiksha/AppData/Local/Temp/Rtmpea87pK/ff3a4c2103c35.ff\n",
      "\n"
     ]
    },
    {
     "name": "stdout",
     "output_type": "stream",
     "text": [
      "===================================================="
     ]
    }
   ],
   "source": [
    "splitpar1 <- detail.stats(splitpar1)"
   ]
  },
  {
   "cell_type": "markdown",
   "metadata": {},
   "source": [
    "The below function calculates the mean of the frequencies in each window "
   ]
  },
  {
   "cell_type": "code",
   "execution_count": 6,
   "metadata": {},
   "outputs": [],
   "source": [
    "SFSmeanpar1 <- sapply(splitpar1@region.stats@minor.allele.freqs, function(x){\n",
    "if(length(x)==0){return(0)}\n",
    "return(mean(x[1,], na.rm=TRUE))\n",
    "})"
   ]
  },
  {
   "cell_type": "code",
   "execution_count": 7,
   "metadata": {},
   "outputs": [],
   "source": [
    "ids <- 1:length(splitpar1@region.names)"
   ]
  },
  {
   "cell_type": "markdown",
   "metadata": {},
   "source": [
    "Now we can smooth the lines and plot the result"
   ]
  },
  {
   "cell_type": "code",
   "execution_count": 8,
   "metadata": {},
   "outputs": [],
   "source": [
    "loess.SFSmeanpar1 <- loess(SFSmeanpar1~ids, span=1)"
   ]
  },
  {
   "cell_type": "markdown",
   "metadata": {},
   "source": [
    "Main issue I am having is how to label the x axis. The labels should correspond to the length of the coding region in my opinion since the mean SFS for the coding region is being calculated here. I tried to do that by calling axis() but that does not seem to work. I am trying to figure out how to get the xaxis labelled "
   ]
  },
  {
   "cell_type": "code",
   "execution_count": 26,
   "metadata": {
    "scrolled": true
   },
   "outputs": [
    {
     "data": {
      "image/png": "[encoded data removed]",
      "text/plain": [
       "Plot with title \"Chromosome VR (par-1 coding region)\""
      ]
     },
     "metadata": {
      "image/png": {
       "height": 420,
       "width": 420
      },
      "text/plain": {
       "height": 420,
       "width": 420
      }
     },
     "output_type": "display_data"
    }
   ],
   "source": [
    "plot(predict(loess.SFSmeanpar1), type = \"l\", xaxt=\"n\", xlab=\"position (Mb)\",\n",
    "ylab=\"mean(SFS)\", main = \"Chromosome VR (par-1 coding region)\", ylim=c(0,0.1))\n",
    "axis(1, at = seq(1, 3579, by = 1000), las=1)"
   ]
  },
  {
   "cell_type": "markdown",
   "metadata": {},
   "source": [
    "The other issue I am having is with the span option within the loess method. The span is what determines the extent of smoothing and for par-5, mlc-4, rho-1 and cdc-37 I get the warning messages seen below about the span being too low, even when I set the span as high as a 100. I am looking into how to optimize the span "
   ]
  },
  {
   "cell_type": "code",
   "execution_count": 25,
   "metadata": {},
   "outputs": [
    {
     "name": "stdout",
     "output_type": "stream",
     "text": [
      "\n",
      "GFF information ...\n",
      "vcff::open : file opened, contains 330 samples\n",
      "[1] \"Available ContigIdentifiers (parameter tid):\"\n",
      "[1] \"I\"     \"II\"    \"III\"   \"IV\"    \"V\"     \"X\"     \"MtDNA\"\n",
      "|            :            |            :            | 100 %\n",
      "|====================================================\n"
     ]
    },
    {
     "name": "stderr",
     "output_type": "stream",
     "text": [
      "opening ff C:/Users/Samiksha/AppData/Local/Temp/Rtmpea87pK/ff3a4c66363cf1.ff\n",
      "\n"
     ]
    },
    {
     "name": "stdout",
     "output_type": "stream",
     "text": [
      "|            :            |            :            | 100 %\n",
      "|====================================================|            :            |            :            | 100 %\n",
      "|"
     ]
    },
    {
     "name": "stderr",
     "output_type": "stream",
     "text": [
      "opening ff C:/Users/Samiksha/AppData/Local/Temp/Rtmpea87pK/ff3a4c3b1a5424.ff\n",
      "\n"
     ]
    },
    {
     "name": "stdout",
     "output_type": "stream",
     "text": [
      "===================================================="
     ]
    },
    {
     "name": "stderr",
     "output_type": "stream",
     "text": [
      "Warning message in simpleLoess(y, x, w, span, degree = degree, parametric = parametric, :\n",
      "\"span too small.   fewer data values than degrees of freedom.\"\n",
      "Warning message in simpleLoess(y, x, w, span, degree = degree, parametric = parametric, :\n",
      "\"Chernobyl! trL>n 3\"\n",
      "Warning message in simpleLoess(y, x, w, span, degree = degree, parametric = parametric, :\n",
      "\"Chernobyl! trL>n 3\"\n",
      "Warning message in sqrt(sum.squares/one.delta):\n",
      "\"NaNs produced\"\n"
     ]
    },
    {
     "data": {
      "image/png": "[encoded data removed]",
      "text/plain": [
       "Plot with title \"Chromosome IVR (par-5 coding region)\""
      ]
     },
     "metadata": {
      "image/png": {
       "height": 420,
       "width": 420
      },
      "text/plain": {
       "height": 420,
       "width": 420
      }
     },
     "output_type": "display_data"
    }
   ],
   "source": [
    "par5 <- readVCF(\"Elegans.vcf.gz\",1000,\"IV\",11820991,11821897,gffpath=\"Elegans_CDS_par5.gff3\")\n",
    "splitpar5 <- splitting.data(par5, subsites=\"coding\")\n",
    "splitpar5 <- detail.stats(splitpar5)\n",
    "SFSmeanpar5 <- sapply(splitpar5@region.stats@minor.allele.freqs, function(x){\n",
    "if(length(x)==0){return(0)}\n",
    "return(mean(x[1,], na.rm=TRUE))\n",
    "})\n",
    "ids <- 1:length(splitpar5@region.names)\n",
    "loess.SFSmeanpar5 <- loess(SFSmeanpar5~ids, span=100)\n",
    "plot(predict(loess.SFSmeanpar5), type = \"l\", xaxt=\"n\", xlab=\"position (Mb)\",\n",
    "ylab=\"mean(SFS)\", main = \"Chromosome IVR (par-5 coding region)\", ylim=c(0,0.1))"
   ]
  }
 ],
 "metadata": {
  "kernelspec": {
   "display_name": "R",
   "language": "R",
   "name": "ir"
  },
  "language_info": {
   "codemirror_mode": "r",
   "file_extension": ".r",
   "mimetype": "text/x-r-source",
   "name": "R",
   "pygments_lexer": "r",
   "version": "3.6.1"
  }
 },
 "nbformat": 4,
 "nbformat_minor": 4
}
